{
 "cells": [
  {
   "cell_type": "code",
   "execution_count": null,
   "metadata": {},
   "outputs": [],
   "source": [
    "In [5]: import networkx as nx\n",
    "import matplotlib.pyplot as plt\n",
    "G=nx.DiGraph()\n",
    "G.add_edge('UU NO.15 Tahun 2018','PP No. 56 Tahun 2012')\n",
    "G.add_edge('UU NO.40 Tahun 2014','PP No. 39 Tahun 2015')\n",
    "G.add_edge('UU NO.22 Tahun 2007','PP No. 44 Tahun 2009')\n",
    "G.add_edge('UU NO.7 Tahun 2010' ,'PP No. 20 Tahun 1982')\n",
    "G.add_edge('UU NO.30 Tahun 1997','PP No. 11 Tahun 1975')\n",
    "#Alfonsus Jaconias\n",
    "#Rofi Hareza\n",
    "G.add_edge (['UU NO.44 Tahun 2008','PP No.25 Tahun 2013') \n",
    "G.add_edge (['UU NO.14 Tahun 2010','PP No.40 Tahun 2013')\n",
    "G.add_edge (['UU NO.10 Tahun 2011','PP No.30Tahun 2012')\n",
    "G.add_edge (['UU NO.30 Tahun 2006','PP No.50 Tahun 2012')\n",
    "\n",
    "nx.draw_networkx(G)\n",
    "plt.axis('off')\n",
    "plt.show()\n",
    "# display"
   ]
  }
 ],
 "metadata": {
  "kernelspec": {
   "display_name": "Python 3",
   "language": "python",
   "name": "python3"
  },
  "language_info": {
   "codemirror_mode": {
    "name": "ipython",
    "version": 3
   },
   "file_extension": ".py",
   "mimetype": "text/x-python",
   "name": "python",
   "nbconvert_exporter": "python",
   "pygments_lexer": "ipython3",
   "version": "3.6.5"
  }
 },
 "nbformat": 4,
 "nbformat_minor": 2
}
